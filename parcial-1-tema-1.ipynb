{
 "cells": [
  {
   "cell_type": "markdown",
   "metadata": {},
   "source": [
    "# Métodos Numericos 2023\n",
    "\n",
    "## Parcial 1 - Tema 1\n",
    "\n",
    "### Fecha de entrega \n",
    "\n",
    "25 de Abril de 2022\n",
    "\n",
    "### Nota sobre la programación en Julia\n",
    "\n",
    "Recuerde que su notebook tiene que poder ser entendida por otra persona. Para ello:\n",
    "\n",
    "* Cuando crea conveniente, use texto Markdown para desarrollar o comentar una idea.\n",
    "\n",
    "* Agregue comentarios a su código de ser necesario.\n",
    "\n",
    "* Realice gráficos que tengan etiquetas en los ejes y leyendas para cada curva o serie de puntos graficados, como así también un título apropiado.\n",
    "\n",
    "* Procure respetar reglas de buena programación:\n",
    "\n",
    "    * Use sangrías adecuadamente.\n",
    "\n",
    "    * Cuando sea posible, implemente funciones de caracter general, en vez de código específico a cada problema, facilitando así la reutilización de código.\n",
    "\n",
    "    * Implemente funciones que tengan los argumentos necesarios para su buen funcionamiento."
   ]
  },
  {
   "cell_type": "code",
   "execution_count": 1,
   "metadata": {},
   "outputs": [],
   "source": [
    "using Plots\n",
    "using LaTeXStrings\n",
    "#using DataFrames\n",
    "#Hola Agus"
   ]
  },
  {
   "cell_type": "markdown",
   "metadata": {},
   "source": [
    "## Problema 1\n",
    "\n",
    "Se desea crear un programa que calcule el Máximo Común Divisor (MCD) de dos números enteros ingresados por el usuario. \n",
    "Para ello, se utilizará el algoritmo de Euclides, el cual consiste en dividir el número mayor entre el número menor y luego dividir el divisor entre el resto obtenido hasta llegar a un resto de cero.\n",
    "El último divisor será el MCD de los dos números ingresados.\n",
    "\n",
    "Algoritmo de Euclides tradicional implementado de manera iterativa (Wikipedia) puede, básicamente, describirse con el siguiente pseudocódigo\n",
    "\n",
    "    function mcd_euclides(m,p)\n",
    "        while p != 0\n",
    "            m,p = p,m%p\n",
    "        end\n",
    "        return m\n",
    "    end\n",
    "\n",
    "Consignas:\n",
    "\n",
    "1. Programe una función `mcd_euclides(m,p)`, que tome dos números enteros `m` y `p` como argumentos. La función deberá retornar el MCD.\n",
    "\n",
    "    La función deberá incluir un *argumento opcional* de tipo booleano llamado `verbose` normalmente  (i.e. por default) seteado al valor `false`. Cuando dicho argumento sea `true`, la función deberá imprimir por pantalla el número de iteraciones que utilizó para calcular el MCD que retorna. La última iteración del resto cero debe tenerse en cuenta en dicho cálculo.\n",
    "\n",
    "2. Calcule el MCD de:\n",
    "\n",
    "        mcd_euclides(15,100)\n",
    "        mcd_euclides(42,12)\n",
    "        mcd_euclides(2727380,12240606785)\n",
    "        \n",
    "    reportando en pantalla el número de iteraciones utilizados en cada caso."
   ]
  },
  {
   "cell_type": "code",
   "execution_count": null,
   "metadata": {},
   "outputs": [],
   "source": []
  },
  {
   "cell_type": "markdown",
   "metadata": {},
   "source": [
    "# Problema 2\n",
    "\n",
    "Considere dos móviles, 1 y 2, que se mueven sobre el eje $x$. \n",
    "El móvil 1 se desplaza con velocidad constante y el móvil 2 con una aceleración $a_{2}(t)$.\n",
    "El objetivo es calcular, numéricamente, una aproximación al tiempo $t$ y a la posición $x(t)$ en que los móviles se encuentran.\n",
    "\n",
    "Para ello, siga los siguientes pasos:\n",
    "\n",
    "1. Utilizando sus conocimientos de cinemática, encuentre las funciones de movimiento de los móviles, $x_{1}(t)$ y $x_{2}(t)$, considerando:\n",
    "\n",
    "    * la posición inicial del móvil 1, $x_1(0)=-2m$,\n",
    "    * la velocidad inicial del móvil 1, $v_1(0)=1ms^{-1}$,\n",
    "    * la aceleración del móvil 1, $a_1(t)=0ms^{-2}$ para todo $t$,\n",
    "    * la posición inicial del móvil 2, $x_2(0)= 4m$,\n",
    "    * la velocidad inicial del móvil 2, $v_2(0)= -12ms^{-1}$, y\n",
    "    * la aceleración del móvil 2, $a_2(t)= \\exp(-ct)ms^{-2}$ con $c=0.1s^{-1}$ para todo $t$.\n",
    "\n",
    "    Notar, el móvil 1 se mueve con velocidad constante y el móvil 2, con aceleración variable. **Ayuda:** La función de movimiento del móvil 2 es de la forma $x_2(t) = a + bt + c^{-2}\\exp(-ct)$, con constantes de integración $a$ y $b$ determinadas por las condiciones iniciales.\n",
    "\n",
    "2. Grafique las funciones de movimiento $x_1(t)$  y  $x_2(t)$, entre $t=0s$ y $t=5s$.\n",
    "\n",
    "3. Calcule la coordenada diferencia $f(t)=x_1(t)-x_2(t)$ y la derivada $f'(t)$ (ya que la necesitará para el método de Newton) y grafíquelas en el mismo intervalo.\n",
    "\n",
    "4. Determine el instante $t$ y la posición $x(t)$ para el encuentro de los dos móviles con direcciones iniciales opuestas. Para ello:\n",
    "\n",
    "    1. Escriba funciones que encuentren la raíz $t$ de la función $f$:\n",
    " \n",
    "        1. utilizando el método de bisección.\n",
    "\n",
    "        2. utilizando el método de la secante.\n",
    "\n",
    "        3. utilizando el método de Regula Falsi.\n",
    "\n",
    "        4. utilizando el método de Newton.\n",
    "    \n",
    "        * Estas funciones deberán imprimir un mensaje cuando los correspondientes algoritmos no converjan tras `nmax=100` iteraciones. \n",
    "        \n",
    "        * Además, deberán retornar una tupla `list_p,list_e,list_f` en donde `list_p` es un array de aproximaciones $p_1,p_2,...,p_n$ de la raíz, `list_e`, es un array de correspondientes estimaciones de errores relativos $r_1,r_2,...,r_n$ (por ejemplo, $r_i = |p_i-p_{i+1}|/|p_{i+1}|$ para Newton) y `list_f` es un array de correspondientes valores $f(p_1),f(p_2),...,f(p_n)$. Aquí, $n$ es el número de iteraciones utilizado por el algoritmo en cuestión.\n",
    "  \n",
    "    4. Con los métodos implementados, calcule approximaciones y correspondientes errores del tiempo $t$ y la correspondiente posición $x(t)=x_1(t)=x_2(t)$ a la cuál se produce el primer encuentro entre los dos móviles. Para ello, utilice `a=0.0` y `b=5.0`, para bisección, secante y Regula Falsi, y `p=0.0` para Newton. Además, utilice las tolerancias de error `tol_x = 10e-8` y `tol_y = 10e-8`.\n",
    "    \n",
    "    5. Grafique, en un mismo gráfico y en escala doble logarítmica, el error relativo $r_i$ en función del número de iteración $i$ para los cuatro métodos.\n",
    "    \n",
    "    6. Grafique $|f(t_i)|$ vs $i$ para los cuatro métodos.\n",
    "\n",
    "    7. Sintetize los resultados en una tabla que incluya, para cada método, las aproximaciones del tiempo y posición de encuentro, sus errores, y el número de iteraciones requerido. Discuta lo observado."
   ]
  },
  {
   "cell_type": "code",
   "execution_count": null,
   "metadata": {},
   "outputs": [],
   "source": []
  }
 ],
 "metadata": {
  "@webio": {
   "lastCommId": null,
   "lastKernelId": null
  },
  "kernelspec": {
   "display_name": "Julia 1.8.5",
   "language": "julia",
   "name": "julia-1.8"
  },
  "language_info": {
   "file_extension": ".jl",
   "mimetype": "application/julia",
   "name": "julia",
   "version": "1.8.5"
  }
 },
 "nbformat": 4,
 "nbformat_minor": 2
}
